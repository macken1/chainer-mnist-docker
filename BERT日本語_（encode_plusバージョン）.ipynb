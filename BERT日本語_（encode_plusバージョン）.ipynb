{
  "nbformat": 4,
  "nbformat_minor": 0,
  "metadata": {
    "colab": {
      "name": "BERT日本語 （encode_plusバージョン）",
      "provenance": [],
      "collapsed_sections": [],
      "toc_visible": true,
      "authorship_tag": "ABX9TyPXGb8dDXM4Zbg7Ttb8358S",
      "include_colab_link": true
    },
    "kernelspec": {
      "name": "python3",
      "display_name": "Python 3"
    },
    "accelerator": "GPU"
  },
  "cells": [
    {
      "cell_type": "markdown",
      "metadata": {
        "id": "view-in-github",
        "colab_type": "text"
      },
      "source": [
        "<a href=\"https://colab.research.google.com/github/macken1/chainer-mnist-docker/blob/master/BERT%E6%97%A5%E6%9C%AC%E8%AA%9E_%EF%BC%88encode_plus%E3%83%90%E3%83%BC%E3%82%B8%E3%83%A7%E3%83%B3%EF%BC%89.ipynb\" target=\"_parent\"><img src=\"https://colab.research.google.com/assets/colab-badge.svg\" alt=\"Open In Colab\"/></a>"
      ]
    },
    {
      "cell_type": "markdown",
      "metadata": {
        "id": "6jLSiVoAmcln",
        "colab_type": "text"
      },
      "source": [
        "# **BERTを使って文をベクトルで表現してみる**"
      ]
    },
    {
      "cell_type": "code",
      "metadata": {
        "id": "-kBMtIemhcCG",
        "colab_type": "code",
        "outputId": "0e9f826a-8b02-422d-8080-529eaee02e4d",
        "colab": {
          "base_uri": "https://localhost:8080/",
          "height": 107
        }
      },
      "source": [
        "## 以下、Mecabを入れとかないとTokenizerでエラーとなるのでインストールしておく\n",
        "## 乾研のBERTではmecab-ipadic-2.7.0-20070801との要件になっているが、最新版をインストール。影響は不明\n",
        "!apt install aptitude\n",
        "!aptitude install mecab libmecab-dev mecab-ipadic-utf8 git make curl xz-utils file -y\n",
        "!pip install mecab-python3"
      ],
      "execution_count": 22,
      "outputs": [
        {
          "output_type": "stream",
          "text": [
            "E: dpkg was interrupted, you must manually run 'dpkg --configure -a' to correct the problem. \n",
            "E: dpkg was interrupted, you must manually run 'dpkg --configure -a' to correct the problem. \n",
            "W: Could not lock the cache file; this usually means that dpkg or another apt tool is already installing packages.  Opening in read-only mode; any changes you make to the states of packages will NOT be preserved!\n",
            "E: dpkg was interrupted, you must manually run 'dpkg --configure -a' to correct the problem. \n",
            "Requirement already satisfied: mecab-python3 in /usr/local/lib/python3.6/dist-packages (0.996.5)\n"
          ],
          "name": "stdout"
        }
      ]
    },
    {
      "cell_type": "markdown",
      "metadata": {
        "id": "pw2Q3gVqmrw2",
        "colab_type": "text"
      },
      "source": [
        "## 1. 形態素解析（単語に分割する）ツールのMeCabをインストールする\n",
        "\n",
        "Google colaboratory環境に、MeCab関連のツール（MeCab単体＋辞書、MeCabをpythonから実行）などをインストールします。"
      ]
    },
    {
      "cell_type": "code",
      "metadata": {
        "id": "JknZqHhorilg",
        "colab_type": "code",
        "outputId": "6ff6f255-98d9-48ce-fa8d-d3226fa9fe03",
        "colab": {
          "base_uri": "https://localhost:8080/",
          "height": 719
        }
      },
      "source": [
        "# coding: utf-8\n",
        "# 念のため、形態素解析ができるかチェック\n",
        "\n",
        "import MeCab\n",
        "\n",
        "m = MeCab.Tagger(\"Owakati\")\n",
        "print(m.parse(\"私はKARAが大好きだった。コンサートに行ったころが懐かしい。\"))\n",
        "print(m.parse(\"コロナウイルスとプロスペクト理論に悩む今日この頃\"))\n",
        "print(m.parse(\"すもももももももものうち\"))"
      ],
      "execution_count": 23,
      "outputs": [
        {
          "output_type": "stream",
          "text": [
            "私\t名詞,代名詞,一般,*,*,*,私,ワタシ,ワタシ\n",
            "は\t助詞,係助詞,*,*,*,*,は,ハ,ワ\n",
            "KARA\t名詞,固有名詞,組織,*,*,*,*\n",
            "が\t助詞,格助詞,一般,*,*,*,が,ガ,ガ\n",
            "大好き\t名詞,形容動詞語幹,*,*,*,*,大好き,ダイスキ,ダイスキ\n",
            "だっ\t助動詞,*,*,*,特殊・ダ,連用タ接続,だ,ダッ,ダッ\n",
            "た\t助動詞,*,*,*,特殊・タ,基本形,た,タ,タ\n",
            "。\t記号,句点,*,*,*,*,。,。,。\n",
            "コンサート\t名詞,一般,*,*,*,*,コンサート,コンサート,コンサート\n",
            "に\t助詞,格助詞,一般,*,*,*,に,ニ,ニ\n",
            "行っ\t動詞,自立,*,*,五段・カ行促音便,連用タ接続,行く,イッ,イッ\n",
            "た\t助動詞,*,*,*,特殊・タ,基本形,た,タ,タ\n",
            "ころ\t名詞,非自立,副詞可能,*,*,*,ころ,コロ,コロ\n",
            "が\t助詞,格助詞,一般,*,*,*,が,ガ,ガ\n",
            "懐かしい\t形容詞,自立,*,*,形容詞・イ段,基本形,懐かしい,ナツカシイ,ナツカシイ\n",
            "。\t記号,句点,*,*,*,*,。,。,。\n",
            "EOS\n",
            "\n",
            "コロナ\t名詞,一般,*,*,*,*,コロナ,コロナ,コロナ\n",
            "ウイルス\t名詞,一般,*,*,*,*,ウイルス,ウイルス,ウイルス\n",
            "と\t助詞,並立助詞,*,*,*,*,と,ト,ト\n",
            "プロスペクト\t名詞,固有名詞,一般,*,*,*,*\n",
            "理論\t名詞,一般,*,*,*,*,理論,リロン,リロン\n",
            "に\t助詞,格助詞,一般,*,*,*,に,ニ,ニ\n",
            "悩む\t動詞,自立,*,*,五段・マ行,基本形,悩む,ナヤム,ナヤム\n",
            "今日\t名詞,副詞可能,*,*,*,*,今日,キョウ,キョー\n",
            "この\t連体詞,*,*,*,*,*,この,コノ,コノ\n",
            "頃\t名詞,非自立,副詞可能,*,*,*,頃,コロ,コロ\n",
            "EOS\n",
            "\n",
            "すもも\t名詞,一般,*,*,*,*,すもも,スモモ,スモモ\n",
            "も\t助詞,係助詞,*,*,*,*,も,モ,モ\n",
            "もも\t名詞,一般,*,*,*,*,もも,モモ,モモ\n",
            "も\t助詞,係助詞,*,*,*,*,も,モ,モ\n",
            "もも\t名詞,一般,*,*,*,*,もも,モモ,モモ\n",
            "の\t助詞,連体化,*,*,*,*,の,ノ,ノ\n",
            "うち\t名詞,非自立,副詞可能,*,*,*,うち,ウチ,ウチ\n",
            "EOS\n",
            "\n"
          ],
          "name": "stdout"
        }
      ]
    },
    {
      "cell_type": "markdown",
      "metadata": {
        "id": "49YQ_SX1m2Ek",
        "colab_type": "text"
      },
      "source": [
        "Colabでグラフ表示する際に文字化けしないように、必要なライブラリをインストールします"
      ]
    },
    {
      "cell_type": "code",
      "metadata": {
        "id": "dGZI6iaMpqDF",
        "colab_type": "code",
        "outputId": "d85f9a03-b7f1-49ae-aa51-703922a3d046",
        "colab": {
          "base_uri": "https://localhost:8080/",
          "height": 35
        }
      },
      "source": [
        "#　以下はmatplotlibでの日本語表示用のライブラリ\n",
        "!pip install japanize_matplotlib\n",
        "import matplotlib.pyplot as plt\n",
        "import japanize_matplotlib \n",
        "import seaborn as sns\n",
        "\n",
        "sns.set(font=\"IPAexGothic\")"
      ],
      "execution_count": 24,
      "outputs": [
        {
          "output_type": "stream",
          "text": [
            "Requirement already satisfied: japanize_matplotlib in /usr/local/lib/python3.6/dist-packages (1.0.5)\n"
          ],
          "name": "stdout"
        }
      ]
    },
    {
      "cell_type": "code",
      "metadata": {
        "id": "7ot0imlwjApw",
        "colab_type": "code",
        "outputId": "2f40a546-5246-4c9e-eccb-d11e0d612eba",
        "colab": {
          "base_uri": "https://localhost:8080/",
          "height": 431
        }
      },
      "source": [
        "!pip install transformers\n",
        "import torch\n",
        "from transformers import BertJapaneseTokenizer, BertForMaskedLM\n",
        "import transformers as ppb\n",
        "\n",
        "# 東北大学乾研が作成した学習済みの日本語BERTモデルの形態素解析モデルを搭載します。\n",
        "tokenizer = BertJapaneseTokenizer.from_pretrained('bert-base-japanese-whole-word-masking')"
      ],
      "execution_count": 25,
      "outputs": [
        {
          "output_type": "stream",
          "text": [
            "Requirement already satisfied: transformers in /usr/local/lib/python3.6/dist-packages (2.8.0)\n",
            "Requirement already satisfied: requests in /usr/local/lib/python3.6/dist-packages (from transformers) (2.21.0)\n",
            "Requirement already satisfied: regex!=2019.12.17 in /usr/local/lib/python3.6/dist-packages (from transformers) (2019.12.20)\n",
            "Requirement already satisfied: dataclasses; python_version < \"3.7\" in /usr/local/lib/python3.6/dist-packages (from transformers) (0.7)\n",
            "Requirement already satisfied: sacremoses in /usr/local/lib/python3.6/dist-packages (from transformers) (0.0.38)\n",
            "Requirement already satisfied: boto3 in /usr/local/lib/python3.6/dist-packages (from transformers) (1.12.38)\n",
            "Requirement already satisfied: numpy in /usr/local/lib/python3.6/dist-packages (from transformers) (1.18.2)\n",
            "Requirement already satisfied: sentencepiece in /usr/local/lib/python3.6/dist-packages (from transformers) (0.1.85)\n",
            "Requirement already satisfied: tokenizers==0.5.2 in /usr/local/lib/python3.6/dist-packages (from transformers) (0.5.2)\n",
            "Requirement already satisfied: filelock in /usr/local/lib/python3.6/dist-packages (from transformers) (3.0.12)\n",
            "Requirement already satisfied: tqdm>=4.27 in /usr/local/lib/python3.6/dist-packages (from transformers) (4.38.0)\n",
            "Requirement already satisfied: certifi>=2017.4.17 in /usr/local/lib/python3.6/dist-packages (from requests->transformers) (2020.4.5.1)\n",
            "Requirement already satisfied: chardet<3.1.0,>=3.0.2 in /usr/local/lib/python3.6/dist-packages (from requests->transformers) (3.0.4)\n",
            "Requirement already satisfied: idna<2.9,>=2.5 in /usr/local/lib/python3.6/dist-packages (from requests->transformers) (2.8)\n",
            "Requirement already satisfied: urllib3<1.25,>=1.21.1 in /usr/local/lib/python3.6/dist-packages (from requests->transformers) (1.24.3)\n",
            "Requirement already satisfied: click in /usr/local/lib/python3.6/dist-packages (from sacremoses->transformers) (7.1.1)\n",
            "Requirement already satisfied: joblib in /usr/local/lib/python3.6/dist-packages (from sacremoses->transformers) (0.14.1)\n",
            "Requirement already satisfied: six in /usr/local/lib/python3.6/dist-packages (from sacremoses->transformers) (1.12.0)\n",
            "Requirement already satisfied: s3transfer<0.4.0,>=0.3.0 in /usr/local/lib/python3.6/dist-packages (from boto3->transformers) (0.3.3)\n",
            "Requirement already satisfied: jmespath<1.0.0,>=0.7.1 in /usr/local/lib/python3.6/dist-packages (from boto3->transformers) (0.9.5)\n",
            "Requirement already satisfied: botocore<1.16.0,>=1.15.38 in /usr/local/lib/python3.6/dist-packages (from boto3->transformers) (1.15.38)\n",
            "Requirement already satisfied: docutils<0.16,>=0.10 in /usr/local/lib/python3.6/dist-packages (from botocore<1.16.0,>=1.15.38->boto3->transformers) (0.15.2)\n",
            "Requirement already satisfied: python-dateutil<3.0.0,>=2.1 in /usr/local/lib/python3.6/dist-packages (from botocore<1.16.0,>=1.15.38->boto3->transformers) (2.8.1)\n"
          ],
          "name": "stdout"
        }
      ]
    },
    {
      "cell_type": "markdown",
      "metadata": {
        "id": "7O3eAgEPnV5-",
        "colab_type": "text"
      },
      "source": [
        "参照用にBERTモデル内の語彙（形態素）をvocabulary.txtに書き出します。<br>左のウインドウからvocabulary.txtをダブルクリックすると内容が確認できます。"
      ]
    },
    {
      "cell_type": "code",
      "metadata": {
        "id": "NRf7NXJGgsnG",
        "colab_type": "code",
        "colab": {}
      },
      "source": [
        "# write all tokens in vocabulary.txt, which you can find on the left-hand side\n",
        "with open(\"vocabulary.txt\", 'w') as f:\n",
        "    \n",
        "    # For each token...\n",
        "    for token in tokenizer.vocab.keys():\n",
        "        \n",
        "        # Write it out and escape any unicode characters.            \n",
        "        f.write(token + '\\n')\n"
      ],
      "execution_count": 0,
      "outputs": []
    },
    {
      "cell_type": "markdown",
      "metadata": {
        "id": "seprombPowgF",
        "colab_type": "text"
      },
      "source": [
        "辞書に含まれている形態素の長さ（＝文字カウント）について分布をみてみます"
      ]
    },
    {
      "cell_type": "code",
      "metadata": {
        "id": "LjvrWcNTdkAW",
        "colab_type": "code",
        "outputId": "21df1774-88ac-44ce-806e-5345acb37dc4",
        "colab": {
          "base_uri": "https://localhost:8080/",
          "height": 388
        }
      },
      "source": [
        "import numpy as np\n",
        "\n",
        "sns.set(style='darkgrid',font=\"IPAexGothic\")\n",
        "\n",
        "# Increase the plot size and font size.\n",
        "sns.set(font_scale=1.5,font=\"IPAexGothic\")\n",
        "plt.rcParams[\"figure.figsize\"] = (10,5)\n",
        "\n",
        "# Measure the length of every token in the vocab.\n",
        "token_lengths = [len(token) for token in tokenizer.vocab.keys()]\n",
        "\n",
        "# Plot the number of tokens of each length.\n",
        "sns.countplot(token_lengths)\n",
        "plt.title('形態素の長さの分布')\n",
        "plt.xlabel('形態素の長さ')\n",
        "plt.ylabel('形態素数')\n",
        "\n",
        "print('最大の形態素長:', max(token_lengths))"
      ],
      "execution_count": 27,
      "outputs": [
        {
          "output_type": "stream",
          "text": [
            "最大の形態素長: 14\n"
          ],
          "name": "stdout"
        },
        {
          "output_type": "display_data",
          "data": {
            "image/png": "[encoded data removed]",
            "text/plain": [
              "<Figure size 720x360 with 1 Axes>"
            ]
          },
          "metadata": {
            "tags": []
          }
        }
      ]
    },
    {
      "cell_type": "markdown",
      "metadata": {
        "id": "Np2tMLGvtOZ-",
        "colab_type": "text"
      },
      "source": [
        "文のベクトルを使って似た文を抽出してみましょう\n",
        "せっかくなので、たくさんの文章からベクトル化を使って意味の似た文章を抽出してみましょう。  \n",
        "まず、データを用意します。  \n",
        "京都大学の黒橋・河原研究室のホームページ(※1)から「Textual Entailment 評価データ」をダウンロードしてデータファイルを作ります。\n",
        "※１　https://bit.ly/2sXN2er"
      ]
    },
    {
      "cell_type": "code",
      "metadata": {
        "id": "K2C-Asz9hLnV",
        "colab_type": "code",
        "outputId": "0ca50564-ab97-4ea5-e066-3663d4ff84cf",
        "colab": {
          "base_uri": "https://localhost:8080/",
          "height": 215
        }
      },
      "source": [
        "!wget http://nlp.ist.i.kyoto-u.ac.jp/nl-resource/rte/entail_evaluation_set.xml -P /content/\n",
        "\n",
        "import xml.etree.ElementTree as ET\n",
        "import codecs\n",
        "\n",
        "# 出力するファイルを指定\n",
        "f1 = codecs.open('T_plain.txt', 'w', 'utf-8')\n",
        "\n",
        "# XMLファイルからT1とT2の正例を抽出して、ファイルに出力\n",
        "corpus = ET.parse('entail_evaluation_set.xml')\n",
        "root = corpus.getroot()\n",
        "\n",
        "for child in root:\n",
        "  grandchild_text = {}\n",
        "  entail_tag = child.get('label')\n",
        "  for grandchild in child.getchildren():\n",
        "    grandchild_text[grandchild.tag] = grandchild.text\n",
        "  if entail_tag == '◎' or entail_tag == '〇':\n",
        "    f1.write(grandchild_text['t1']+\"\\n\")\n",
        "    f1.write(grandchild_text['t2']+\"\\n\") "
      ],
      "execution_count": 28,
      "outputs": [
        {
          "output_type": "stream",
          "text": [
            "--2020-04-11 05:33:13--  http://nlp.ist.i.kyoto-u.ac.jp/nl-resource/rte/entail_evaluation_set.xml\n",
            "Resolving nlp.ist.i.kyoto-u.ac.jp (nlp.ist.i.kyoto-u.ac.jp)... 133.3.252.171\n",
            "Connecting to nlp.ist.i.kyoto-u.ac.jp (nlp.ist.i.kyoto-u.ac.jp)|133.3.252.171|:80... connected.\n",
            "HTTP request sent, awaiting response... 200 OK\n",
            "Length: 461805 (451K) [text/xml]\n",
            "Saving to: ‘/content/entail_evaluation_set.xml.4’\n",
            "\n",
            "entail_evaluation_s 100%[===================>] 450.98K   197KB/s    in 2.3s    \n",
            "\n",
            "2020-04-11 05:33:16 (197 KB/s) - ‘/content/entail_evaluation_set.xml.4’ saved [461805/461805]\n",
            "\n"
          ],
          "name": "stdout"
        }
      ]
    },
    {
      "cell_type": "markdown",
      "metadata": {
        "id": "kpg1DuNIpZFi",
        "colab_type": "text"
      },
      "source": [
        "どんな文が含まれているのか、10個ほどサンプリングして表示してみます"
      ]
    },
    {
      "cell_type": "code",
      "metadata": {
        "id": "r5MOmBW0_IH6",
        "colab_type": "code",
        "outputId": "4246fefd-ddb4-4b6b-c03e-aa928fb8eb62",
        "colab": {
          "base_uri": "https://localhost:8080/",
          "height": 355
        }
      },
      "source": [
        "import pandas as pd\n",
        "df = pd.read_table(\"/content/T_plain.txt\", header=None)\n",
        "df.sample(10)"
      ],
      "execution_count": 29,
      "outputs": [
        {
          "output_type": "execute_result",
          "data": {
            "text/html": [
              "<div>\n",
              "<style scoped>\n",
              "    .dataframe tbody tr th:only-of-type {\n",
              "        vertical-align: middle;\n",
              "    }\n",
              "\n",
              "    .dataframe tbody tr th {\n",
              "        vertical-align: top;\n",
              "    }\n",
              "\n",
              "    .dataframe thead th {\n",
              "        text-align: right;\n",
              "    }\n",
              "</style>\n",
              "<table border=\"1\" class=\"dataframe\">\n",
              "  <thead>\n",
              "    <tr style=\"text-align: right;\">\n",
              "      <th></th>\n",
              "      <th>0</th>\n",
              "    </tr>\n",
              "  </thead>\n",
              "  <tbody>\n",
              "    <tr>\n",
              "      <th>94</th>\n",
              "      <td>昔は天動説が信じられていた。</td>\n",
              "    </tr>\n",
              "    <tr>\n",
              "      <th>417</th>\n",
              "      <td>角館は東北にある。</td>\n",
              "    </tr>\n",
              "    <tr>\n",
              "      <th>29</th>\n",
              "      <td>花子はお菓子が好きだ。</td>\n",
              "    </tr>\n",
              "    <tr>\n",
              "      <th>1370</th>\n",
              "      <td>売れ残ると困るので、店のお惣菜は夕方になると安くなる。</td>\n",
              "    </tr>\n",
              "    <tr>\n",
              "      <th>206</th>\n",
              "      <td>枝豆を食べた。</td>\n",
              "    </tr>\n",
              "    <tr>\n",
              "      <th>927</th>\n",
              "      <td>和歌を作った。</td>\n",
              "    </tr>\n",
              "    <tr>\n",
              "      <th>306</th>\n",
              "      <td>もみじ狩りに行った。</td>\n",
              "    </tr>\n",
              "    <tr>\n",
              "      <th>1034</th>\n",
              "      <td>化粧は女を化かす。</td>\n",
              "    </tr>\n",
              "    <tr>\n",
              "      <th>366</th>\n",
              "      <td>台風７号が発生し、日本に接近の恐れ。</td>\n",
              "    </tr>\n",
              "    <tr>\n",
              "      <th>114</th>\n",
              "      <td>郵便局は銀行の左隣りにあります。</td>\n",
              "    </tr>\n",
              "  </tbody>\n",
              "</table>\n",
              "</div>"
            ],
            "text/plain": [
              "                                0\n",
              "94                 昔は天動説が信じられていた。\n",
              "417                     角館は東北にある。\n",
              "29                    花子はお菓子が好きだ。\n",
              "1370  売れ残ると困るので、店のお惣菜は夕方になると安くなる。\n",
              "206                       枝豆を食べた。\n",
              "927                       和歌を作った。\n",
              "306                    もみじ狩りに行った。\n",
              "1034                    化粧は女を化かす。\n",
              "366            台風７号が発生し、日本に接近の恐れ。\n",
              "114              郵便局は銀行の左隣りにあります。"
            ]
          },
          "metadata": {
            "tags": []
          },
          "execution_count": 29
        }
      ]
    },
    {
      "cell_type": "markdown",
      "metadata": {
        "id": "Wtvu7sGXrp-9",
        "colab_type": "text"
      },
      "source": [
        "文例をいったんリスト化します。"
      ]
    },
    {
      "cell_type": "code",
      "metadata": {
        "id": "WOHl21NG7PqA",
        "colab_type": "code",
        "outputId": "9b50496b-7766-4fe8-ecf9-dd0c1a9fc8b1",
        "colab": {
          "base_uri": "https://localhost:8080/",
          "height": 53
        }
      },
      "source": [
        "sentences = df[0].values\n",
        "print(sentences)"
      ],
      "execution_count": 30,
      "outputs": [
        {
          "output_type": "stream",
          "text": [
            "['あの人は呼吸器専門医だ。' 'あの人は医者だ。' 'アメリカンショートヘアーを飼っている。' ...\n",
            " 'ボジョレ・ヌーヴォーの販売には解禁日がある。' '彼は英語が堪能である。' '彼の英語はうまい。']\n"
          ],
          "name": "stdout"
        }
      ]
    },
    {
      "cell_type": "markdown",
      "metadata": {
        "id": "xpG4MTawpirN",
        "colab_type": "text"
      },
      "source": [
        "実際に、日本語の文章がどのように形態素、さらにBERTの分析用のIDに変換されるのかを見てみてましょう"
      ]
    },
    {
      "cell_type": "code",
      "metadata": {
        "id": "ECWG30I-7kAr",
        "colab_type": "code",
        "outputId": "6ef03f94-4b6a-4925-dce1-72eaf8b7887e",
        "colab": {
          "base_uri": "https://localhost:8080/",
          "height": 71
        }
      },
      "source": [
        "# Print the original sentence.\n",
        "print('原文: ', sentences[0])\n",
        "\n",
        "# Print the sentence split into tokens.\n",
        "print('形態素: ', tokenizer.tokenize(sentences[0]))\n",
        "\n",
        "# Print the sentence mapped to token ids.\n",
        "print('形態素に対応するID番号化: ', tokenizer.convert_tokens_to_ids(tokenizer.tokenize(sentences[0])))"
      ],
      "execution_count": 31,
      "outputs": [
        {
          "output_type": "stream",
          "text": [
            "原文:  あの人は呼吸器専門医だ。\n",
            "形態素:  ['あの', '人', 'は', '呼吸', '器', '専門', '##医', 'だ', '。']\n",
            "形態素に対応するID番号化:  [7755, 53, 9, 9489, 1777, 1534, 29205, 75, 8]\n"
          ],
          "name": "stdout"
        }
      ]
    },
    {
      "cell_type": "markdown",
      "metadata": {
        "id": "LIoQC5Txpthk",
        "colab_type": "text"
      },
      "source": [
        "文をBERTで分析する際、入力側の形態素数（≒単語数）を固定する必要があります。\n",
        "\n",
        "「Textual Entailment 評価データ」の形態素の数を見てみましょう。\n",
        "\n",
        "※CLS、SEPなどの特別な形態素も含めてカウントしています"
      ]
    },
    {
      "cell_type": "code",
      "metadata": {
        "id": "lZhaoL1T71fF",
        "colab_type": "code",
        "outputId": "74bf9cc3-3d84-4534-da9a-0545a6afa7ba",
        "colab": {
          "base_uri": "https://localhost:8080/",
          "height": 35
        }
      },
      "source": [
        "max_len = 0\n",
        "\n",
        "# For every sentence...\n",
        "for sent in sentences:\n",
        "\n",
        "    # Tokenize the text and add `[CLS]` and `[SEP]` tokens.\n",
        "    input_ids = tokenizer.encode(sent, add_special_tokens=True)\n",
        "\n",
        "    # Update the maximum sentence length.\n",
        "    max_len = max(max_len, len(input_ids))\n",
        "\n",
        "print('最長の形態素数は⇒ ', max_len)"
      ],
      "execution_count": 32,
      "outputs": [
        {
          "output_type": "stream",
          "text": [
            "最長の形態素数は⇒  29\n"
          ],
          "name": "stdout"
        }
      ]
    },
    {
      "cell_type": "markdown",
      "metadata": {
        "id": "gjw9FwX9rTYi",
        "colab_type": "text"
      },
      "source": [
        "BERTモデルを読み込みます。"
      ]
    },
    {
      "cell_type": "code",
      "metadata": {
        "id": "Rrkg0dNrDrgj",
        "colab_type": "code",
        "colab": {
          "base_uri": "https://localhost:8080/",
          "height": 1000
        },
        "outputId": "cdc4e3d4-b2e0-479c-fe61-22cd31da1055"
      },
      "source": [
        "from transformers import BertJapaneseTokenizer, BertModel\n",
        "\n",
        "# Load pre-trained model (weights)\n",
        "model = BertModel.from_pretrained('bert-base-japanese-whole-word-masking')\n",
        "\n",
        "# Set the model in evaluation mode to deactivate the DropOut modules\n",
        "# This is IMPORTANT to have reproducible results during evaluation!\n",
        "# どうもpytorchには学習モードと推論モードがあるらしい。以下は推論モードに切り替え\n",
        "model.eval()"
      ],
      "execution_count": 33,
      "outputs": [
        {
          "output_type": "execute_result",
          "data": {
            "text/plain": [
              "BertModel(\n",
              "  (embeddings): BertEmbeddings(\n",
              "    (word_embeddings): Embedding(32000, 768, padding_idx=0)\n",
              "    (position_embeddings): Embedding(512, 768)\n",
              "    (token_type_embeddings): Embedding(2, 768)\n",
              "    (LayerNorm): LayerNorm((768,), eps=1e-12, elementwise_affine=True)\n",
              "    (dropout): Dropout(p=0.1, inplace=False)\n",
              "  )\n",
              "  (encoder): BertEncoder(\n",
              "    (layer): ModuleList(\n",
              "      (0): BertLayer(\n",
              "        (attention): BertAttention(\n",
              "          (self): BertSelfAttention(\n",
              "            (query): Linear(in_features=768, out_features=768, bias=True)\n",
              "            (key): Linear(in_features=768, out_features=768, bias=True)\n",
              "            (value): Linear(in_features=768, out_features=768, bias=True)\n",
              "            (dropout): Dropout(p=0.1, inplace=False)\n",
              "          )\n",
              "          (output): BertSelfOutput(\n",
              "            (dense): Linear(in_features=768, out_features=768, bias=True)\n",
              "            (LayerNorm): LayerNorm((768,), eps=1e-12, elementwise_affine=True)\n",
              "            (dropout): Dropout(p=0.1, inplace=False)\n",
              "          )\n",
              "        )\n",
              "        (intermediate): BertIntermediate(\n",
              "          (dense): Linear(in_features=768, out_features=3072, bias=True)\n",
              "        )\n",
              "        (output): BertOutput(\n",
              "          (dense): Linear(in_features=3072, out_features=768, bias=True)\n",
              "          (LayerNorm): LayerNorm((768,), eps=1e-12, elementwise_affine=True)\n",
              "          (dropout): Dropout(p=0.1, inplace=False)\n",
              "        )\n",
              "      )\n",
              "      (1): BertLayer(\n",
              "        (attention): BertAttention(\n",
              "          (self): BertSelfAttention(\n",
              "            (query): Linear(in_features=768, out_features=768, bias=True)\n",
              "            (key): Linear(in_features=768, out_features=768, bias=True)\n",
              "            (value): Linear(in_features=768, out_features=768, bias=True)\n",
              "            (dropout): Dropout(p=0.1, inplace=False)\n",
              "          )\n",
              "          (output): BertSelfOutput(\n",
              "            (dense): Linear(in_features=768, out_features=768, bias=True)\n",
              "            (LayerNorm): LayerNorm((768,), eps=1e-12, elementwise_affine=True)\n",
              "            (dropout): Dropout(p=0.1, inplace=False)\n",
              "          )\n",
              "        )\n",
              "        (intermediate): BertIntermediate(\n",
              "          (dense): Linear(in_features=768, out_features=3072, bias=True)\n",
              "        )\n",
              "        (output): BertOutput(\n",
              "          (dense): Linear(in_features=3072, out_features=768, bias=True)\n",
              "          (LayerNorm): LayerNorm((768,), eps=1e-12, elementwise_affine=True)\n",
              "          (dropout): Dropout(p=0.1, inplace=False)\n",
              "        )\n",
              "      )\n",
              "      (2): BertLayer(\n",
              "        (attention): BertAttention(\n",
              "          (self): BertSelfAttention(\n",
              "            (query): Linear(in_features=768, out_features=768, bias=True)\n",
              "            (key): Linear(in_features=768, out_features=768, bias=True)\n",
              "            (value): Linear(in_features=768, out_features=768, bias=True)\n",
              "            (dropout): Dropout(p=0.1, inplace=False)\n",
              "          )\n",
              "          (output): BertSelfOutput(\n",
              "            (dense): Linear(in_features=768, out_features=768, bias=True)\n",
              "            (LayerNorm): LayerNorm((768,), eps=1e-12, elementwise_affine=True)\n",
              "            (dropout): Dropout(p=0.1, inplace=False)\n",
              "          )\n",
              "        )\n",
              "        (intermediate): BertIntermediate(\n",
              "          (dense): Linear(in_features=768, out_features=3072, bias=True)\n",
              "        )\n",
              "        (output): BertOutput(\n",
              "          (dense): Linear(in_features=3072, out_features=768, bias=True)\n",
              "          (LayerNorm): LayerNorm((768,), eps=1e-12, elementwise_affine=True)\n",
              "          (dropout): Dropout(p=0.1, inplace=False)\n",
              "        )\n",
              "      )\n",
              "      (3): BertLayer(\n",
              "        (attention): BertAttention(\n",
              "          (self): BertSelfAttention(\n",
              "            (query): Linear(in_features=768, out_features=768, bias=True)\n",
              "            (key): Linear(in_features=768, out_features=768, bias=True)\n",
              "            (value): Linear(in_features=768, out_features=768, bias=True)\n",
              "            (dropout): Dropout(p=0.1, inplace=False)\n",
              "          )\n",
              "          (output): BertSelfOutput(\n",
              "            (dense): Linear(in_features=768, out_features=768, bias=True)\n",
              "            (LayerNorm): LayerNorm((768,), eps=1e-12, elementwise_affine=True)\n",
              "            (dropout): Dropout(p=0.1, inplace=False)\n",
              "          )\n",
              "        )\n",
              "        (intermediate): BertIntermediate(\n",
              "          (dense): Linear(in_features=768, out_features=3072, bias=True)\n",
              "        )\n",
              "        (output): BertOutput(\n",
              "          (dense): Linear(in_features=3072, out_features=768, bias=True)\n",
              "          (LayerNorm): LayerNorm((768,), eps=1e-12, elementwise_affine=True)\n",
              "          (dropout): Dropout(p=0.1, inplace=False)\n",
              "        )\n",
              "      )\n",
              "      (4): BertLayer(\n",
              "        (attention): BertAttention(\n",
              "          (self): BertSelfAttention(\n",
              "            (query): Linear(in_features=768, out_features=768, bias=True)\n",
              "            (key): Linear(in_features=768, out_features=768, bias=True)\n",
              "            (value): Linear(in_features=768, out_features=768, bias=True)\n",
              "            (dropout): Dropout(p=0.1, inplace=False)\n",
              "          )\n",
              "          (output): BertSelfOutput(\n",
              "            (dense): Linear(in_features=768, out_features=768, bias=True)\n",
              "            (LayerNorm): LayerNorm((768,), eps=1e-12, elementwise_affine=True)\n",
              "            (dropout): Dropout(p=0.1, inplace=False)\n",
              "          )\n",
              "        )\n",
              "        (intermediate): BertIntermediate(\n",
              "          (dense): Linear(in_features=768, out_features=3072, bias=True)\n",
              "        )\n",
              "        (output): BertOutput(\n",
              "          (dense): Linear(in_features=3072, out_features=768, bias=True)\n",
              "          (LayerNorm): LayerNorm((768,), eps=1e-12, elementwise_affine=True)\n",
              "          (dropout): Dropout(p=0.1, inplace=False)\n",
              "        )\n",
              "      )\n",
              "      (5): BertLayer(\n",
              "        (attention): BertAttention(\n",
              "          (self): BertSelfAttention(\n",
              "            (query): Linear(in_features=768, out_features=768, bias=True)\n",
              "            (key): Linear(in_features=768, out_features=768, bias=True)\n",
              "            (value): Linear(in_features=768, out_features=768, bias=True)\n",
              "            (dropout): Dropout(p=0.1, inplace=False)\n",
              "          )\n",
              "          (output): BertSelfOutput(\n",
              "            (dense): Linear(in_features=768, out_features=768, bias=True)\n",
              "            (LayerNorm): LayerNorm((768,), eps=1e-12, elementwise_affine=True)\n",
              "            (dropout): Dropout(p=0.1, inplace=False)\n",
              "          )\n",
              "        )\n",
              "        (intermediate): BertIntermediate(\n",
              "          (dense): Linear(in_features=768, out_features=3072, bias=True)\n",
              "        )\n",
              "        (output): BertOutput(\n",
              "          (dense): Linear(in_features=3072, out_features=768, bias=True)\n",
              "          (LayerNorm): LayerNorm((768,), eps=1e-12, elementwise_affine=True)\n",
              "          (dropout): Dropout(p=0.1, inplace=False)\n",
              "        )\n",
              "      )\n",
              "      (6): BertLayer(\n",
              "        (attention): BertAttention(\n",
              "          (self): BertSelfAttention(\n",
              "            (query): Linear(in_features=768, out_features=768, bias=True)\n",
              "            (key): Linear(in_features=768, out_features=768, bias=True)\n",
              "            (value): Linear(in_features=768, out_features=768, bias=True)\n",
              "            (dropout): Dropout(p=0.1, inplace=False)\n",
              "          )\n",
              "          (output): BertSelfOutput(\n",
              "            (dense): Linear(in_features=768, out_features=768, bias=True)\n",
              "            (LayerNorm): LayerNorm((768,), eps=1e-12, elementwise_affine=True)\n",
              "            (dropout): Dropout(p=0.1, inplace=False)\n",
              "          )\n",
              "        )\n",
              "        (intermediate): BertIntermediate(\n",
              "          (dense): Linear(in_features=768, out_features=3072, bias=True)\n",
              "        )\n",
              "        (output): BertOutput(\n",
              "          (dense): Linear(in_features=3072, out_features=768, bias=True)\n",
              "          (LayerNorm): LayerNorm((768,), eps=1e-12, elementwise_affine=True)\n",
              "          (dropout): Dropout(p=0.1, inplace=False)\n",
              "        )\n",
              "      )\n",
              "      (7): BertLayer(\n",
              "        (attention): BertAttention(\n",
              "          (self): BertSelfAttention(\n",
              "            (query): Linear(in_features=768, out_features=768, bias=True)\n",
              "            (key): Linear(in_features=768, out_features=768, bias=True)\n",
              "            (value): Linear(in_features=768, out_features=768, bias=True)\n",
              "            (dropout): Dropout(p=0.1, inplace=False)\n",
              "          )\n",
              "          (output): BertSelfOutput(\n",
              "            (dense): Linear(in_features=768, out_features=768, bias=True)\n",
              "            (LayerNorm): LayerNorm((768,), eps=1e-12, elementwise_affine=True)\n",
              "            (dropout): Dropout(p=0.1, inplace=False)\n",
              "          )\n",
              "        )\n",
              "        (intermediate): BertIntermediate(\n",
              "          (dense): Linear(in_features=768, out_features=3072, bias=True)\n",
              "        )\n",
              "        (output): BertOutput(\n",
              "          (dense): Linear(in_features=3072, out_features=768, bias=True)\n",
              "          (LayerNorm): LayerNorm((768,), eps=1e-12, elementwise_affine=True)\n",
              "          (dropout): Dropout(p=0.1, inplace=False)\n",
              "        )\n",
              "      )\n",
              "      (8): BertLayer(\n",
              "        (attention): BertAttention(\n",
              "          (self): BertSelfAttention(\n",
              "            (query): Linear(in_features=768, out_features=768, bias=True)\n",
              "            (key): Linear(in_features=768, out_features=768, bias=True)\n",
              "            (value): Linear(in_features=768, out_features=768, bias=True)\n",
              "            (dropout): Dropout(p=0.1, inplace=False)\n",
              "          )\n",
              "          (output): BertSelfOutput(\n",
              "            (dense): Linear(in_features=768, out_features=768, bias=True)\n",
              "            (LayerNorm): LayerNorm((768,), eps=1e-12, elementwise_affine=True)\n",
              "            (dropout): Dropout(p=0.1, inplace=False)\n",
              "          )\n",
              "        )\n",
              "        (intermediate): BertIntermediate(\n",
              "          (dense): Linear(in_features=768, out_features=3072, bias=True)\n",
              "        )\n",
              "        (output): BertOutput(\n",
              "          (dense): Linear(in_features=3072, out_features=768, bias=True)\n",
              "          (LayerNorm): LayerNorm((768,), eps=1e-12, elementwise_affine=True)\n",
              "          (dropout): Dropout(p=0.1, inplace=False)\n",
              "        )\n",
              "      )\n",
              "      (9): BertLayer(\n",
              "        (attention): BertAttention(\n",
              "          (self): BertSelfAttention(\n",
              "            (query): Linear(in_features=768, out_features=768, bias=True)\n",
              "            (key): Linear(in_features=768, out_features=768, bias=True)\n",
              "            (value): Linear(in_features=768, out_features=768, bias=True)\n",
              "            (dropout): Dropout(p=0.1, inplace=False)\n",
              "          )\n",
              "          (output): BertSelfOutput(\n",
              "            (dense): Linear(in_features=768, out_features=768, bias=True)\n",
              "            (LayerNorm): LayerNorm((768,), eps=1e-12, elementwise_affine=True)\n",
              "            (dropout): Dropout(p=0.1, inplace=False)\n",
              "          )\n",
              "        )\n",
              "        (intermediate): BertIntermediate(\n",
              "          (dense): Linear(in_features=768, out_features=3072, bias=True)\n",
              "        )\n",
              "        (output): BertOutput(\n",
              "          (dense): Linear(in_features=3072, out_features=768, bias=True)\n",
              "          (LayerNorm): LayerNorm((768,), eps=1e-12, elementwise_affine=True)\n",
              "          (dropout): Dropout(p=0.1, inplace=False)\n",
              "        )\n",
              "      )\n",
              "      (10): BertLayer(\n",
              "        (attention): BertAttention(\n",
              "          (self): BertSelfAttention(\n",
              "            (query): Linear(in_features=768, out_features=768, bias=True)\n",
              "            (key): Linear(in_features=768, out_features=768, bias=True)\n",
              "            (value): Linear(in_features=768, out_features=768, bias=True)\n",
              "            (dropout): Dropout(p=0.1, inplace=False)\n",
              "          )\n",
              "          (output): BertSelfOutput(\n",
              "            (dense): Linear(in_features=768, out_features=768, bias=True)\n",
              "            (LayerNorm): LayerNorm((768,), eps=1e-12, elementwise_affine=True)\n",
              "            (dropout): Dropout(p=0.1, inplace=False)\n",
              "          )\n",
              "        )\n",
              "        (intermediate): BertIntermediate(\n",
              "          (dense): Linear(in_features=768, out_features=3072, bias=True)\n",
              "        )\n",
              "        (output): BertOutput(\n",
              "          (dense): Linear(in_features=3072, out_features=768, bias=True)\n",
              "          (LayerNorm): LayerNorm((768,), eps=1e-12, elementwise_affine=True)\n",
              "          (dropout): Dropout(p=0.1, inplace=False)\n",
              "        )\n",
              "      )\n",
              "      (11): BertLayer(\n",
              "        (attention): BertAttention(\n",
              "          (self): BertSelfAttention(\n",
              "            (query): Linear(in_features=768, out_features=768, bias=True)\n",
              "            (key): Linear(in_features=768, out_features=768, bias=True)\n",
              "            (value): Linear(in_features=768, out_features=768, bias=True)\n",
              "            (dropout): Dropout(p=0.1, inplace=False)\n",
              "          )\n",
              "          (output): BertSelfOutput(\n",
              "            (dense): Linear(in_features=768, out_features=768, bias=True)\n",
              "            (LayerNorm): LayerNorm((768,), eps=1e-12, elementwise_affine=True)\n",
              "            (dropout): Dropout(p=0.1, inplace=False)\n",
              "          )\n",
              "        )\n",
              "        (intermediate): BertIntermediate(\n",
              "          (dense): Linear(in_features=768, out_features=3072, bias=True)\n",
              "        )\n",
              "        (output): BertOutput(\n",
              "          (dense): Linear(in_features=3072, out_features=768, bias=True)\n",
              "          (LayerNorm): LayerNorm((768,), eps=1e-12, elementwise_affine=True)\n",
              "          (dropout): Dropout(p=0.1, inplace=False)\n",
              "        )\n",
              "      )\n",
              "    )\n",
              "  )\n",
              "  (pooler): BertPooler(\n",
              "    (dense): Linear(in_features=768, out_features=768, bias=True)\n",
              "    (activation): Tanh()\n",
              "  )\n",
              ")"
            ]
          },
          "metadata": {
            "tags": []
          },
          "execution_count": 33
        }
      ]
    },
    {
      "cell_type": "markdown",
      "metadata": {
        "id": "_3CNYOOhrhq0",
        "colab_type": "text"
      },
      "source": [
        "文例を一気に形態素の順にID化します。ここでは同時に短い文例は32形態素になるよう０で残りを埋めています。"
      ]
    },
    {
      "cell_type": "code",
      "metadata": {
        "id": "XM0JXUrn8E9l",
        "colab_type": "code",
        "outputId": "442616b0-07f6-48d9-87d6-c34eead8dd9b",
        "colab": {
          "base_uri": "https://localhost:8080/",
          "height": 143
        }
      },
      "source": [
        "# Tokenize all of the sentences and map the tokens to thier word IDs.\n",
        "input_ids = []\n",
        "attention_masks = []\n",
        "\n",
        "# For every sentence...\n",
        "for sent in sentences:\n",
        "    # `encode_plus` will:\n",
        "    #   (1) Tokenize the sentence.\n",
        "    #   (2) Prepend the `[CLS]` token to the start.\n",
        "    #   (3) Append the `[SEP]` token to the end.\n",
        "    #   (4) Map tokens to their IDs.\n",
        "    #   (5) Pad or truncate the sentence to `max_length`\n",
        "    #   (6) Create attention masks for [PAD] tokens.\n",
        "    encoded_dict = tokenizer.encode_plus(\n",
        "                        sent,                      # Sentence to encode.\n",
        "                        add_special_tokens = True, # Add '[CLS]' and '[SEP]'\n",
        "                        max_length = 32,           # Pad & truncate all sentences.\n",
        "                        pad_to_max_length = True,\n",
        "                        return_attention_mask = True,   # Construct attn. masks.\n",
        "                        return_tensors = 'pt',     # Return pytorch tensors.\n",
        "                   )\n",
        "    \n",
        "    # Add the encoded sentence to the list.    \n",
        "    input_ids.append(encoded_dict['input_ids'])\n",
        "    \n",
        "    # And its attention mask (simply differentiates padding from non-padding).\n",
        "    attention_masks.append(encoded_dict['attention_mask'])\n",
        "\n",
        "# Convert the lists into tensors.\n",
        "input_ids = torch.cat(input_ids, dim=0)\n",
        "attention_masks = torch.cat(attention_masks, dim=0)\n",
        "\n",
        "# Print sentence 0, now as a list of IDs.\n",
        "print('Original: ', sentences[0])\n",
        "print('Token IDs:', input_ids[0])\n",
        "print('attention_masks:', attention_masks[0])"
      ],
      "execution_count": 34,
      "outputs": [
        {
          "output_type": "stream",
          "text": [
            "Original:  あの人は呼吸器専門医だ。\n",
            "Token IDs: tensor([    2,  7755,    53,     9,  9489,  1777,  1534, 29205,    75,     8,\n",
            "            3,     0,     0,     0,     0,     0,     0,     0,     0,     0,\n",
            "            0,     0,     0,     0,     0,     0,     0,     0,     0,     0,\n",
            "            0,     0])\n",
            "attention_masks: tensor([1, 1, 1, 1, 1, 1, 1, 1, 1, 1, 1, 0, 0, 0, 0, 0, 0, 0, 0, 0, 0, 0, 0, 0,\n",
            "        0, 0, 0, 0, 0, 0, 0, 0])\n"
          ],
          "name": "stdout"
        }
      ]
    },
    {
      "cell_type": "markdown",
      "metadata": {
        "id": "MoF0T-t4szbX",
        "colab_type": "text"
      },
      "source": [
        "ID化した文例をBERTモデルを使って形態素ごとにベクトル化し、アウトプットのテンソルの次元を確認します"
      ]
    },
    {
      "cell_type": "code",
      "metadata": {
        "id": "gxGxAw89MtVq",
        "colab_type": "code",
        "outputId": "e2874ea2-93b8-4118-938e-cd90ff7b30db",
        "colab": {
          "base_uri": "https://localhost:8080/",
          "height": 35
        }
      },
      "source": [
        "# GPU上で走らせるためには、関連するものをすべてGPU上に配置\n",
        "input_ids = input_ids.to('cuda')\n",
        "attention_masks = attention_masks.to('cuda')\n",
        "model.to('cuda')\n",
        "\n",
        "# いよいよ推論させる、というか各形態素に対応するベクトルを計算\n",
        "with torch.no_grad():\n",
        "    outputs = model(input_ids, attention_mask=attention_masks)\n",
        "# 以下で素のアウトプット\n",
        "last_hidden_states = outputs[0]\n",
        "last_hidden_states.shape\n",
        "# last_hidden_states.type"
      ],
      "execution_count": 35,
      "outputs": [
        {
          "output_type": "execute_result",
          "data": {
            "text/plain": [
              "torch.Size([1848, 32, 768])"
            ]
          },
          "metadata": {
            "tags": []
          },
          "execution_count": 35
        }
      ]
    },
    {
      "cell_type": "markdown",
      "metadata": {
        "id": "vBS06vsLtpAt",
        "colab_type": "text"
      },
      "source": [
        "吐き出したテンソルのうち、CLSに相当するテンソルのみ切り出します"
      ]
    },
    {
      "cell_type": "code",
      "metadata": {
        "id": "XYgnjnGVM_7I",
        "colab_type": "code",
        "outputId": "d489b361-d913-48ca-d0d2-42e1198159f0",
        "colab": {
          "base_uri": "https://localhost:8080/",
          "height": 35
        }
      },
      "source": [
        "# NumPy配列ndarrayの要素や部分配列（行・列など）は[2, 3, 1, ...]のように各次元の位置や範囲をカンマ区切りで指定。[:,0,:]でCLSに対応するはず\n",
        "last_hidden_states[:,0,:].shape"
      ],
      "execution_count": 36,
      "outputs": [
        {
          "output_type": "execute_result",
          "data": {
            "text/plain": [
              "torch.Size([1848, 768])"
            ]
          },
          "metadata": {
            "tags": []
          },
          "execution_count": 36
        }
      ]
    },
    {
      "cell_type": "markdown",
      "metadata": {
        "id": "GT0h8Rost2jN",
        "colab_type": "text"
      },
      "source": [
        "例に似た文章をコサイン類似度を使って似ている順番に抽出します。まず、形態素×ID化"
      ]
    },
    {
      "cell_type": "code",
      "metadata": {
        "id": "23qPqDdmAsXd",
        "colab_type": "code",
        "outputId": "bc6f8325-9509-4730-bbc1-c9677b3584d8",
        "colab": {
          "base_uri": "https://localhost:8080/",
          "height": 197
        }
      },
      "source": [
        "# 例文と類似する文を探してみる\n",
        "example = '猫がニャーニャーとうるさくて眠れない。'\n",
        "\n",
        "# encode_plusでpaddingまでできる。超便利。ptでPyTorch、tfでTensorflow、何もつけないと普通にリストを返す\n",
        "example_ids = tokenizer.encode_plus(example, max_length=32, pad_to_max_length=True, return_tensors='pt')\n",
        "print(example_ids)\n",
        "type(example_ids)\n",
        "print(example_ids[\"input_ids\"]) #辞書から必要な部分を参照"
      ],
      "execution_count": 37,
      "outputs": [
        {
          "output_type": "stream",
          "text": [
            "{'input_ids': tensor([[    2,  6040,    14,   353,   556,  5452, 28451,    13,  5619, 26079,\n",
            "            16,  8263, 28461,    80,     8,     3,     0,     0,     0,     0,\n",
            "             0,     0,     0,     0,     0,     0,     0,     0,     0,     0,\n",
            "             0,     0]]), 'token_type_ids': tensor([[0, 0, 0, 0, 0, 0, 0, 0, 0, 0, 0, 0, 0, 0, 0, 0, 0, 0, 0, 0, 0, 0, 0, 0,\n",
            "         0, 0, 0, 0, 0, 0, 0, 0]]), 'attention_mask': tensor([[1, 1, 1, 1, 1, 1, 1, 1, 1, 1, 1, 1, 1, 1, 1, 1, 0, 0, 0, 0, 0, 0, 0, 0,\n",
            "         0, 0, 0, 0, 0, 0, 0, 0]])}\n",
            "tensor([[    2,  6040,    14,   353,   556,  5452, 28451,    13,  5619, 26079,\n",
            "            16,  8263, 28461,    80,     8,     3,     0,     0,     0,     0,\n",
            "             0,     0,     0,     0,     0,     0,     0,     0,     0,     0,\n",
            "             0,     0]])\n"
          ],
          "name": "stdout"
        }
      ]
    },
    {
      "cell_type": "markdown",
      "metadata": {
        "id": "MfQPDIJHuH9T",
        "colab_type": "text"
      },
      "source": [
        "そのうえで、BERTを使ってベクトル化します。"
      ]
    },
    {
      "cell_type": "code",
      "metadata": {
        "id": "hO_cA1cMI85Q",
        "colab_type": "code",
        "outputId": "a8b86c9e-c457-4932-bd01-e9fcdc1f9427",
        "colab": {
          "base_uri": "https://localhost:8080/",
          "height": 35
        }
      },
      "source": [
        "# GPU上で走らせるためには、関連するものをすべてGPU上に配置\n",
        "input_ids_example = example_ids[\"input_ids\"].to('cuda')\n",
        "attention_masks_example = example_ids[\"attention_mask\"].to('cuda')\n",
        "model.to('cuda')\n",
        "\n",
        "# いよいよ推論させる、というか各形態素に対応するベクトルを計算\n",
        "with torch.no_grad():\n",
        "    example_outputs = model(input_ids_example, attention_mask=attention_masks_example)\n",
        "# 以下で素のアウトプット\n",
        "last_hidden_states_example = example_outputs[0]\n",
        "last_hidden_states_example[:,0,:].shape\n",
        "# last_hidden_states.type"
      ],
      "execution_count": 38,
      "outputs": [
        {
          "output_type": "execute_result",
          "data": {
            "text/plain": [
              "torch.Size([1, 768])"
            ]
          },
          "metadata": {
            "tags": []
          },
          "execution_count": 38
        }
      ]
    },
    {
      "cell_type": "markdown",
      "metadata": {
        "id": "LTErxLktuRRE",
        "colab_type": "text"
      },
      "source": [
        "コサイン類似度をすべて文例と計算し、上位20例を表示します"
      ]
    },
    {
      "cell_type": "code",
      "metadata": {
        "id": "CWezvQ4Ad2Kr",
        "colab_type": "code",
        "outputId": "e87985a1-7d34-496f-9f26-1b3f0501018e",
        "colab": {
          "base_uri": "https://localhost:8080/",
          "height": 413
        }
      },
      "source": [
        "corpus = codecs.open('/content/T_plain.txt', 'r', 'utf-8')\n",
        "corpussimdic = {}\n",
        "\n",
        "# コサイン類似度を計算する\n",
        "def cos_sim(v1, v2):\n",
        "    return np.dot(v1, v2) / (np.linalg.norm(v1) * np.linalg.norm(v2))\n",
        "\n",
        "# 例文のベクトル\n",
        "example_vec = last_hidden_states_example[:,0,:].to('cpu').detach().numpy().copy()\n",
        "\n",
        "# コーパス文のベクトル\n",
        "corpus_vec = last_hidden_states[:,0,:].to('cpu').detach().numpy().copy() \n",
        "  \n",
        "print()\n",
        "print(example, \"<=>\")\n",
        "\n",
        "#\n",
        "# コーパスの文とのコサイン類似度を求める\n",
        "#\n",
        "i = 0\n",
        "for sentence in corpus:\n",
        "\n",
        "  corpussimdic[sentence.rstrip('\\n')] = cos_sim(example_vec, corpus_vec[i,:])\n",
        "  i += 1\n",
        "\n",
        "\n",
        "# valueで降順にソートしてトップ20の類似文を表示する\n",
        "count = 0\n",
        "for k, v in sorted(corpussimdic.items(), key=lambda x: -x[1]):\n",
        "    print(str(v) + \": \" + str(k)) \n",
        "    count += 1 \n",
        "    if count == 20:\n",
        "      break\n"
      ],
      "execution_count": 39,
      "outputs": [
        {
          "output_type": "stream",
          "text": [
            "\n",
            "猫がニャーニャーとうるさくて眠れない。 <=>\n",
            "[1.0000001]: 猫がニャーニャーとうるさくて眠れない。\n",
            "[0.94120175]: ニャーニャーとうるさくて眠れない。\n",
            "[0.8842278]: 何をやっても眠けがとれない。\n",
            "[0.87973124]: 何をしても眠い。\n",
            "[0.86993796]: おたふく風邪にかかると困る。\n",
            "[0.86776257]: あまりに眠くて、仕事にならない。\n",
            "[0.8653278]: ラブバードを見ていると、心がなごむ。\n",
            "[0.8635006]: ぼけると困る。\n",
            "[0.8615057]: ぴょんぴょん飛び跳ねるのはウサギだけではない。\n",
            "[0.8606796]: お昼だというのに、おなかがすかない。\n",
            "[0.855985]: 彼女は機嫌が悪い。\n",
            "[0.84726477]: 風で帽子がとんだ。\n",
            "[0.8444803]: おなかがすいた。\n",
            "[0.8398719]: 彼女は部屋のインテリアを気にする。\n",
            "[0.8396411]: 白い器に果物をのせているのが、おしゃれだ。\n",
            "[0.83810174]: さつきは緑に囲まれたマンションに住めてうらやましい。\n",
            "[0.8379033]: お金がない。\n",
            "[0.83746374]: 昨晩のおかずは和食だった。\n",
            "[0.83619326]: 彼女の夫は顔だちがいい。\n",
            "[0.83542836]: 虐待と間違われるのが怖くて、子供を叱れない。\n"
          ],
          "name": "stdout"
        }
      ]
    }
  ]
}