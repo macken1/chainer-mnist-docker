{
  "nbformat": 4,
  "nbformat_minor": 0,
  "metadata": {
    "colab": {
      "name": "Pythonでのソートの例示.ipynb",
      "version": "0.3.2",
      "provenance": [],
      "collapsed_sections": [],
      "include_colab_link": true
    },
    "kernelspec": {
      "name": "python3",
      "display_name": "Python 3"
    }
  },
  "cells": [
    {
      "cell_type": "markdown",
      "metadata": {
        "id": "view-in-github",
        "colab_type": "text"
      },
      "source": [
        "<a href=\"https://colab.research.google.com/github/macken1/chainer-mnist-docker/blob/master/Python%E3%81%A7%E3%81%AE%E3%82%BD%E3%83%BC%E3%83%88%E3%81%AE%E4%BE%8B%E7%A4%BA.ipynb\" target=\"_parent\"><img src=\"https://colab.research.google.com/assets/colab-badge.svg\" alt=\"Open In Colab\"/></a>"
      ]
    },
    {
      "metadata": {
        "id": "siffjJpQwiF1",
        "colab_type": "text"
      },
      "cell_type": "markdown",
      "source": [
        "### 実際にデータサイエンス、AI系で人気のあるPythonでソートをしてみる\n",
        "\n",
        "まず、配列（ややこしいのですが、Pythonではリストと呼ばれてます）を用意しましょう"
      ]
    },
    {
      "metadata": {
        "id": "5BeJ63QbwhIb",
        "colab_type": "code",
        "colab": {
          "base_uri": "https://localhost:8080/",
          "height": 34
        },
        "outputId": "d7cec530-40d1-4d5d-a873-2b3675e9d243"
      },
      "cell_type": "code",
      "source": [
        "import numpy as np\n",
        "\n",
        "配列 = np.random.randint(1, 100, 10)  # 1から100までの整数を使って10個の配列をつくります\n",
        "print(配列)"
      ],
      "execution_count": 18,
      "outputs": [
        {
          "output_type": "stream",
          "text": [
            "[ 5 88 62 20 53 83  5 28 48 15]\n"
          ],
          "name": "stdout"
        }
      ]
    },
    {
      "metadata": {
        "id": "RDzF__Aox9j6",
        "colab_type": "text"
      },
      "cell_type": "markdown",
      "source": [
        "できあがった配列をソートしてみます"
      ]
    },
    {
      "metadata": {
        "id": "EJIWyvMfyGdn",
        "colab_type": "code",
        "colab": {
          "base_uri": "https://localhost:8080/",
          "height": 34
        },
        "outputId": "dfb773a2-a884-4c7d-faae-b08da202c711"
      },
      "cell_type": "code",
      "source": [
        "ソートした配列 = np.sort(配列) # sort()という関数で一気にソートします\n",
        "print(ソートした配列)"
      ],
      "execution_count": 20,
      "outputs": [
        {
          "output_type": "stream",
          "text": [
            "[ 5  5 15 20 28 48 53 62 83 88]\n"
          ],
          "name": "stdout"
        }
      ]
    },
    {
      "metadata": {
        "id": "fOANOXniyoI5",
        "colab_type": "text"
      },
      "cell_type": "markdown",
      "source": [
        "とても簡単でしょ"
      ]
    }
  ]
}